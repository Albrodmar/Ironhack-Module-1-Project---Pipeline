{
 "cells": [
  {
   "cell_type": "code",
   "execution_count": 29,
   "metadata": {},
   "outputs": [],
   "source": [
    "import pandas as pd"
   ]
  },
  {
   "cell_type": "code",
   "execution_count": 30,
   "metadata": {},
   "outputs": [],
   "source": [
    "df_b = pd.read_csv('../data/processed/billionaires.csv', index_col = False)"
   ]
  },
  {
   "cell_type": "code",
   "execution_count": 31,
   "metadata": {},
   "outputs": [],
   "source": [
    "df_g = pd.read_csv('../data/processed/gdp.csv', index_col = False)"
   ]
  },
  {
   "cell_type": "code",
   "execution_count": 32,
   "metadata": {},
   "outputs": [],
   "source": [
    "df = pd.merge(df_b, df_g, on = 'Country', how = 'inner')"
   ]
  },
  {
   "cell_type": "code",
   "execution_count": 33,
   "metadata": {},
   "outputs": [
    {
     "data": {
      "text/html": [
       "<div>\n",
       "<style scoped>\n",
       "    .dataframe tbody tr th:only-of-type {\n",
       "        vertical-align: middle;\n",
       "    }\n",
       "\n",
       "    .dataframe tbody tr th {\n",
       "        vertical-align: top;\n",
       "    }\n",
       "\n",
       "    .dataframe thead th {\n",
       "        text-align: right;\n",
       "    }\n",
       "</style>\n",
       "<table border=\"1\" class=\"dataframe\">\n",
       "  <thead>\n",
       "    <tr style=\"text-align: right;\">\n",
       "      <th></th>\n",
       "      <th>id</th>\n",
       "      <th>worth in Billion USD</th>\n",
       "      <th>age</th>\n",
       "      <th>gender</th>\n",
       "      <th>Country</th>\n",
       "      <th>image</th>\n",
       "      <th>name</th>\n",
       "      <th>industry</th>\n",
       "      <th>company_name</th>\n",
       "      <th>GDP in Billions USD</th>\n",
       "    </tr>\n",
       "  </thead>\n",
       "  <tbody>\n",
       "    <tr>\n",
       "      <th>0</th>\n",
       "      <td>5390</td>\n",
       "      <td>112.0</td>\n",
       "      <td>54.0</td>\n",
       "      <td>Male</td>\n",
       "      <td>United States</td>\n",
       "      <td>https://specials-images.forbesimg.com/imageser...</td>\n",
       "      <td>Jeff Bezos</td>\n",
       "      <td>Technology</td>\n",
       "      <td>Amazon</td>\n",
       "      <td>20494.1</td>\n",
       "    </tr>\n",
       "    <tr>\n",
       "      <th>1</th>\n",
       "      <td>6732</td>\n",
       "      <td>48.8</td>\n",
       "      <td>45.0</td>\n",
       "      <td>Male</td>\n",
       "      <td>United States</td>\n",
       "      <td>https://specials-images.forbesimg.com/imageser...</td>\n",
       "      <td>Larry Page</td>\n",
       "      <td>Technology</td>\n",
       "      <td>Google</td>\n",
       "      <td>20494.1</td>\n",
       "    </tr>\n",
       "    <tr>\n",
       "      <th>2</th>\n",
       "      <td>9671</td>\n",
       "      <td>46.4</td>\n",
       "      <td>70.0</td>\n",
       "      <td>None</td>\n",
       "      <td>United States</td>\n",
       "      <td>https://specials-images.forbesimg.com/imageser...</td>\n",
       "      <td>Jim Walton</td>\n",
       "      <td>Fashion &amp; Retail</td>\n",
       "      <td>Walmart</td>\n",
       "      <td>20494.1</td>\n",
       "    </tr>\n",
       "    <tr>\n",
       "      <th>3</th>\n",
       "      <td>2676</td>\n",
       "      <td>29.6</td>\n",
       "      <td>80.0</td>\n",
       "      <td>Male</td>\n",
       "      <td>United States</td>\n",
       "      <td>https://specials-images.forbesimg.com/imageser...</td>\n",
       "      <td>Phil Knight</td>\n",
       "      <td>Fashion &amp; Retail</td>\n",
       "      <td>Nike</td>\n",
       "      <td>20494.1</td>\n",
       "    </tr>\n",
       "    <tr>\n",
       "      <th>4</th>\n",
       "      <td>9310</td>\n",
       "      <td>21.7</td>\n",
       "      <td>65.0</td>\n",
       "      <td>Male</td>\n",
       "      <td>United States</td>\n",
       "      <td>https:http://specials-images.forbesimg.com/ima...</td>\n",
       "      <td>Paul Allen</td>\n",
       "      <td>Technology</td>\n",
       "      <td>Microsoft, investments</td>\n",
       "      <td>20494.1</td>\n",
       "    </tr>\n",
       "  </tbody>\n",
       "</table>\n",
       "</div>"
      ],
      "text/plain": [
       "     id  worth in Billion USD   age gender        Country  \\\n",
       "0  5390                 112.0  54.0   Male  United States   \n",
       "1  6732                  48.8  45.0   Male  United States   \n",
       "2  9671                  46.4  70.0   None  United States   \n",
       "3  2676                  29.6  80.0   Male  United States   \n",
       "4  9310                  21.7  65.0   Male  United States   \n",
       "\n",
       "                                               image         name  \\\n",
       "0  https://specials-images.forbesimg.com/imageser...   Jeff Bezos   \n",
       "1  https://specials-images.forbesimg.com/imageser...   Larry Page   \n",
       "2  https://specials-images.forbesimg.com/imageser...   Jim Walton   \n",
       "3  https://specials-images.forbesimg.com/imageser...  Phil Knight   \n",
       "4  https:http://specials-images.forbesimg.com/ima...   Paul Allen   \n",
       "\n",
       "            industry             company_name  GDP in Billions USD  \n",
       "0        Technology                    Amazon              20494.1  \n",
       "1        Technology                    Google              20494.1  \n",
       "2  Fashion & Retail                   Walmart              20494.1  \n",
       "3  Fashion & Retail                      Nike              20494.1  \n",
       "4        Technology    Microsoft, investments              20494.1  "
      ]
     },
     "execution_count": 33,
     "metadata": {},
     "output_type": "execute_result"
    }
   ],
   "source": [
    "df.head()"
   ]
  },
  {
   "cell_type": "code",
   "execution_count": 34,
   "metadata": {},
   "outputs": [],
   "source": [
    "df.to_csv('../data/processed/final.csv',index = False)"
   ]
  }
 ],
 "metadata": {
  "kernelspec": {
   "display_name": "Python [conda env:project_env]",
   "language": "python",
   "name": "conda-env-project_env-py"
  },
  "language_info": {
   "codemirror_mode": {
    "name": "ipython",
    "version": 3
   },
   "file_extension": ".py",
   "mimetype": "text/x-python",
   "name": "python",
   "nbconvert_exporter": "python",
   "pygments_lexer": "ipython3",
   "version": "3.7.5"
  }
 },
 "nbformat": 4,
 "nbformat_minor": 4
}
