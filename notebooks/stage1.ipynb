{
 "cells": [
  {
   "cell_type": "code",
   "execution_count": 1,
   "metadata": {},
   "outputs": [],
   "source": [
    "import pandas as pd\n",
    "import numpy as np"
   ]
  },
  {
   "cell_type": "code",
   "execution_count": 2,
   "metadata": {},
   "outputs": [],
   "source": [
    "from sqlalchemy import create_engine"
   ]
  },
  {
   "cell_type": "markdown",
   "metadata": {},
   "source": [
    "<h2> 1. Creating an engine to access the database"
   ]
  },
  {
   "cell_type": "code",
   "execution_count": 3,
   "metadata": {},
   "outputs": [],
   "source": [
    "engine = create_engine('sqlite:///../data/raw/Albrodmar.db')"
   ]
  },
  {
   "cell_type": "markdown",
   "metadata": {},
   "source": [
    "<h2>2. Opening all the tables on Pandas"
   ]
  },
  {
   "cell_type": "code",
   "execution_count": 46,
   "metadata": {},
   "outputs": [],
   "source": [
    "df_business = pd.read_sql_query(\"SELECT * FROM business_info\", engine)"
   ]
  },
  {
   "cell_type": "code",
   "execution_count": 47,
   "metadata": {},
   "outputs": [],
   "source": [
    "df_personal = pd.read_sql_query(\"SELECT * FROM personal_info\", engine)"
   ]
  },
  {
   "cell_type": "code",
   "execution_count": 48,
   "metadata": {},
   "outputs": [],
   "source": [
    "df_rank = pd.read_sql_query('SELECT * FROM rank_info', engine)"
   ]
  },
  {
   "cell_type": "markdown",
   "metadata": {},
   "source": [
    "\n",
    "<h4> All the df have a common column 'id' but df_rank has more lines thah the others df. Will 'outer' join the three base on 'id'\n"
   ]
  },
  {
   "cell_type": "markdown",
   "metadata": {},
   "source": [
    "<h2 style=\"color:green;\"> >>>> REGENERATE DATAFRAME <<<<"
   ]
  },
  {
   "cell_type": "code",
   "execution_count": 98,
   "metadata": {},
   "outputs": [
    {
     "data": {
      "text/html": [
       "<div>\n",
       "<style scoped>\n",
       "    .dataframe tbody tr th:only-of-type {\n",
       "        vertical-align: middle;\n",
       "    }\n",
       "\n",
       "    .dataframe tbody tr th {\n",
       "        vertical-align: top;\n",
       "    }\n",
       "\n",
       "    .dataframe thead th {\n",
       "        text-align: right;\n",
       "    }\n",
       "</style>\n",
       "<table border=\"1\" class=\"dataframe\">\n",
       "  <thead>\n",
       "    <tr style=\"text-align: right;\">\n",
       "      <th></th>\n",
       "      <th>id</th>\n",
       "      <th>Unnamed: 0_x</th>\n",
       "      <th>Source</th>\n",
       "      <th>worth</th>\n",
       "      <th>worthChange</th>\n",
       "      <th>realTimeWorth</th>\n",
       "      <th>realTimePosition</th>\n",
       "      <th>lastName</th>\n",
       "      <th>age</th>\n",
       "      <th>Unnamed: 0_y</th>\n",
       "      <th>gender</th>\n",
       "      <th>country</th>\n",
       "      <th>image</th>\n",
       "      <th>name</th>\n",
       "      <th>position</th>\n",
       "      <th>Unnamed: 0</th>\n",
       "    </tr>\n",
       "  </thead>\n",
       "  <tbody>\n",
       "    <tr>\n",
       "      <th>0</th>\n",
       "      <td>5390</td>\n",
       "      <td>52.0</td>\n",
       "      <td>Technology  ==&gt; Amazon</td>\n",
       "      <td>112.0 BUSD</td>\n",
       "      <td>0.0 millions USD</td>\n",
       "      <td>None</td>\n",
       "      <td>1.0</td>\n",
       "      <td>bEZOS</td>\n",
       "      <td>54 years old</td>\n",
       "      <td>52.0</td>\n",
       "      <td>M</td>\n",
       "      <td>United States</td>\n",
       "      <td>https://specials-images.forbesimg.com/imageser...</td>\n",
       "      <td>jEFF BEzos</td>\n",
       "      <td>1.0</td>\n",
       "      <td>52</td>\n",
       "    </tr>\n",
       "    <tr>\n",
       "      <th>1</th>\n",
       "      <td>1675</td>\n",
       "      <td>53.0</td>\n",
       "      <td>Technology  ==&gt; Microsoft</td>\n",
       "      <td>90.0 BUSD</td>\n",
       "      <td>-0.001 millions USD</td>\n",
       "      <td>None</td>\n",
       "      <td>2.0</td>\n",
       "      <td>GATEs</td>\n",
       "      <td>62 years old</td>\n",
       "      <td>53.0</td>\n",
       "      <td>None</td>\n",
       "      <td>None</td>\n",
       "      <td>https://specials-images.forbesimg.com/imageser...</td>\n",
       "      <td>BILL GAtes</td>\n",
       "      <td>2.0</td>\n",
       "      <td>53</td>\n",
       "    </tr>\n",
       "  </tbody>\n",
       "</table>\n",
       "</div>"
      ],
      "text/plain": [
       "     id  Unnamed: 0_x                     Source       worth  \\\n",
       "0  5390          52.0     Technology  ==> Amazon  112.0 BUSD   \n",
       "1  1675          53.0  Technology  ==> Microsoft   90.0 BUSD   \n",
       "\n",
       "           worthChange realTimeWorth  realTimePosition lastName           age  \\\n",
       "0     0.0 millions USD          None               1.0    bEZOS  54 years old   \n",
       "1  -0.001 millions USD          None               2.0    GATEs  62 years old   \n",
       "\n",
       "   Unnamed: 0_y gender        country  \\\n",
       "0          52.0      M  United States   \n",
       "1          53.0   None           None   \n",
       "\n",
       "                                               image        name  position  \\\n",
       "0  https://specials-images.forbesimg.com/imageser...  jEFF BEzos       1.0   \n",
       "1  https://specials-images.forbesimg.com/imageser...  BILL GAtes       2.0   \n",
       "\n",
       "   Unnamed: 0  \n",
       "0          52  \n",
       "1          53  "
      ]
     },
     "execution_count": 98,
     "metadata": {},
     "output_type": "execute_result"
    }
   ],
   "source": [
    "df_temp = pd.merge(df_business, df_personal, on = 'id', how = 'outer')\n",
    "df_merged = pd.merge(df_temp, df_rank, on = 'id', how = 'outer')\n",
    "df_merged.head(2)"
   ]
  },
  {
   "cell_type": "markdown",
   "metadata": {},
   "source": [
    "<h2> 3. Start Data Wrangling"
   ]
  },
  {
   "cell_type": "code",
   "execution_count": 99,
   "metadata": {},
   "outputs": [
    {
     "data": {
      "text/plain": [
       "id                     0\n",
       "Unnamed: 0_x          52\n",
       "Source                52\n",
       "worth                 52\n",
       "worthChange           52\n",
       "realTimeWorth       2260\n",
       "realTimePosition      52\n",
       "lastName              52\n",
       "age                  117\n",
       "Unnamed: 0_y          52\n",
       "gender                65\n",
       "country               52\n",
       "image                 52\n",
       "name                   0\n",
       "position              52\n",
       "Unnamed: 0             0\n",
       "dtype: int64"
      ]
     },
     "execution_count": 99,
     "metadata": {},
     "output_type": "execute_result"
    }
   ],
   "source": [
    "df_merged.isnull().sum()"
   ]
  },
  {
   "cell_type": "markdown",
   "metadata": {},
   "source": [
    "<h4>3.1 Drop columns: <ul><b>realTimeWorth</b> because is full of nulls and column</ul> <ul><b>lastName</b> because is useless having column <b>name</b></ul><ul><b>'Unnamed: 0_y'</b></ul>\n",
    "    <ul><b>'Unnamed:0_x'</b></ul><ul><b>'Unnamed: 0'</b> (got same values and I don't know their meaning. There are not repeated values. Seem like they are ID columns only).</ul>"
   ]
  },
  {
   "cell_type": "code",
   "execution_count": 102,
   "metadata": {},
   "outputs": [],
   "source": [
    "df_merged = df_merged.drop(['realTimeWorth', 'lastName', 'Unnamed: 0_x', 'Unnamed: 0_y', 'Unnamed: 0'], axis = 1)"
   ]
  },
  {
   "cell_type": "code",
   "execution_count": 103,
   "metadata": {},
   "outputs": [
    {
     "data": {
      "text/html": [
       "<div>\n",
       "<style scoped>\n",
       "    .dataframe tbody tr th:only-of-type {\n",
       "        vertical-align: middle;\n",
       "    }\n",
       "\n",
       "    .dataframe tbody tr th {\n",
       "        vertical-align: top;\n",
       "    }\n",
       "\n",
       "    .dataframe thead th {\n",
       "        text-align: right;\n",
       "    }\n",
       "</style>\n",
       "<table border=\"1\" class=\"dataframe\">\n",
       "  <thead>\n",
       "    <tr style=\"text-align: right;\">\n",
       "      <th></th>\n",
       "      <th>id</th>\n",
       "      <th>Source</th>\n",
       "      <th>worth</th>\n",
       "      <th>worthChange</th>\n",
       "      <th>realTimePosition</th>\n",
       "      <th>age</th>\n",
       "      <th>gender</th>\n",
       "      <th>country</th>\n",
       "      <th>image</th>\n",
       "      <th>name</th>\n",
       "      <th>position</th>\n",
       "    </tr>\n",
       "  </thead>\n",
       "  <tbody>\n",
       "    <tr>\n",
       "      <th>0</th>\n",
       "      <td>5390</td>\n",
       "      <td>Technology  ==&gt; Amazon</td>\n",
       "      <td>112.0 BUSD</td>\n",
       "      <td>0.0 millions USD</td>\n",
       "      <td>1.0</td>\n",
       "      <td>54 years old</td>\n",
       "      <td>M</td>\n",
       "      <td>United States</td>\n",
       "      <td>https://specials-images.forbesimg.com/imageser...</td>\n",
       "      <td>jEFF BEzos</td>\n",
       "      <td>1.0</td>\n",
       "    </tr>\n",
       "    <tr>\n",
       "      <th>1</th>\n",
       "      <td>1675</td>\n",
       "      <td>Technology  ==&gt; Microsoft</td>\n",
       "      <td>90.0 BUSD</td>\n",
       "      <td>-0.001 millions USD</td>\n",
       "      <td>2.0</td>\n",
       "      <td>62 years old</td>\n",
       "      <td>None</td>\n",
       "      <td>None</td>\n",
       "      <td>https://specials-images.forbesimg.com/imageser...</td>\n",
       "      <td>BILL GAtes</td>\n",
       "      <td>2.0</td>\n",
       "    </tr>\n",
       "    <tr>\n",
       "      <th>2</th>\n",
       "      <td>2361</td>\n",
       "      <td>Finance and Investments  ==&gt; Berkshire Hathaway</td>\n",
       "      <td>84.0 BUSD</td>\n",
       "      <td>-0.002 millions USD</td>\n",
       "      <td>3.0</td>\n",
       "      <td>87 years old</td>\n",
       "      <td>None</td>\n",
       "      <td>None</td>\n",
       "      <td>https://specials-images.forbesimg.com/imageser...</td>\n",
       "      <td>warREN BUFfett</td>\n",
       "      <td>3.0</td>\n",
       "    </tr>\n",
       "    <tr>\n",
       "      <th>3</th>\n",
       "      <td>2340</td>\n",
       "      <td>Fashion &amp; Retail  ==&gt; LVMH</td>\n",
       "      <td>72.0 BUSD</td>\n",
       "      <td>0.0 millions USD</td>\n",
       "      <td>4.0</td>\n",
       "      <td>69 years old</td>\n",
       "      <td>None</td>\n",
       "      <td>None</td>\n",
       "      <td>https://specials-images.forbesimg.com/imageser...</td>\n",
       "      <td>bERNARD ARNAUlt</td>\n",
       "      <td>4.0</td>\n",
       "    </tr>\n",
       "    <tr>\n",
       "      <th>4</th>\n",
       "      <td>6891</td>\n",
       "      <td>Technology  ==&gt; Facebook</td>\n",
       "      <td>71.0 BUSD</td>\n",
       "      <td>0.0 millions USD</td>\n",
       "      <td>5.0</td>\n",
       "      <td>1985</td>\n",
       "      <td>None</td>\n",
       "      <td>None</td>\n",
       "      <td>https://specials-images.forbesimg.com/imageser...</td>\n",
       "      <td>marK ZUCKERberg</td>\n",
       "      <td>5.0</td>\n",
       "    </tr>\n",
       "  </tbody>\n",
       "</table>\n",
       "</div>"
      ],
      "text/plain": [
       "     id                                           Source       worth  \\\n",
       "0  5390                           Technology  ==> Amazon  112.0 BUSD   \n",
       "1  1675                        Technology  ==> Microsoft   90.0 BUSD   \n",
       "2  2361  Finance and Investments  ==> Berkshire Hathaway   84.0 BUSD   \n",
       "3  2340                       Fashion & Retail  ==> LVMH   72.0 BUSD   \n",
       "4  6891                         Technology  ==> Facebook   71.0 BUSD   \n",
       "\n",
       "           worthChange  realTimePosition           age gender        country  \\\n",
       "0     0.0 millions USD               1.0  54 years old      M  United States   \n",
       "1  -0.001 millions USD               2.0  62 years old   None           None   \n",
       "2  -0.002 millions USD               3.0  87 years old   None           None   \n",
       "3     0.0 millions USD               4.0  69 years old   None           None   \n",
       "4     0.0 millions USD               5.0          1985   None           None   \n",
       "\n",
       "                                               image             name  \\\n",
       "0  https://specials-images.forbesimg.com/imageser...       jEFF BEzos   \n",
       "1  https://specials-images.forbesimg.com/imageser...       BILL GAtes   \n",
       "2  https://specials-images.forbesimg.com/imageser...   warREN BUFfett   \n",
       "3  https://specials-images.forbesimg.com/imageser...  bERNARD ARNAUlt   \n",
       "4  https://specials-images.forbesimg.com/imageser...  marK ZUCKERberg   \n",
       "\n",
       "   position  \n",
       "0       1.0  \n",
       "1       2.0  \n",
       "2       3.0  \n",
       "3       4.0  \n",
       "4       5.0  "
      ]
     },
     "execution_count": 103,
     "metadata": {},
     "output_type": "execute_result"
    }
   ],
   "source": [
    "df_merged.head()"
   ]
  },
  {
   "cell_type": "markdown",
   "metadata": {},
   "source": [
    "<h4>3.2 Separete column 'Source' in column \"Industry\" and \"Company\""
   ]
  },
  {
   "cell_type": "code",
   "execution_count": 104,
   "metadata": {},
   "outputs": [],
   "source": [
    "df_merged[['industry','company_name']] = df_merged.Source.str.split(' ==>',expand = True)\n",
    "\n",
    "#drop old column Source\n",
    "df_merged = df_merged.drop(['Source'], axis = 1)"
   ]
  },
  {
   "cell_type": "markdown",
   "metadata": {},
   "source": [
    "<h4>3.3 Capitalizing first letters only on column 'name'"
   ]
  },
  {
   "cell_type": "code",
   "execution_count": 105,
   "metadata": {},
   "outputs": [],
   "source": [
    "df_merged['name'] = df_merged['name'].str.title()"
   ]
  },
  {
   "cell_type": "code",
   "execution_count": 106,
   "metadata": {},
   "outputs": [
    {
     "data": {
      "text/html": [
       "<div>\n",
       "<style scoped>\n",
       "    .dataframe tbody tr th:only-of-type {\n",
       "        vertical-align: middle;\n",
       "    }\n",
       "\n",
       "    .dataframe tbody tr th {\n",
       "        vertical-align: top;\n",
       "    }\n",
       "\n",
       "    .dataframe thead th {\n",
       "        text-align: right;\n",
       "    }\n",
       "</style>\n",
       "<table border=\"1\" class=\"dataframe\">\n",
       "  <thead>\n",
       "    <tr style=\"text-align: right;\">\n",
       "      <th></th>\n",
       "      <th>id</th>\n",
       "      <th>worth</th>\n",
       "      <th>worthChange</th>\n",
       "      <th>realTimePosition</th>\n",
       "      <th>age</th>\n",
       "      <th>gender</th>\n",
       "      <th>country</th>\n",
       "      <th>image</th>\n",
       "      <th>name</th>\n",
       "      <th>position</th>\n",
       "      <th>industry</th>\n",
       "      <th>company_name</th>\n",
       "    </tr>\n",
       "  </thead>\n",
       "  <tbody>\n",
       "    <tr>\n",
       "      <th>0</th>\n",
       "      <td>5390</td>\n",
       "      <td>112.0 BUSD</td>\n",
       "      <td>0.0 millions USD</td>\n",
       "      <td>1.0</td>\n",
       "      <td>54 years old</td>\n",
       "      <td>M</td>\n",
       "      <td>United States</td>\n",
       "      <td>https://specials-images.forbesimg.com/imageser...</td>\n",
       "      <td>Jeff Bezos</td>\n",
       "      <td>1.0</td>\n",
       "      <td>Technology</td>\n",
       "      <td>Amazon</td>\n",
       "    </tr>\n",
       "    <tr>\n",
       "      <th>1</th>\n",
       "      <td>1675</td>\n",
       "      <td>90.0 BUSD</td>\n",
       "      <td>-0.001 millions USD</td>\n",
       "      <td>2.0</td>\n",
       "      <td>62 years old</td>\n",
       "      <td>None</td>\n",
       "      <td>None</td>\n",
       "      <td>https://specials-images.forbesimg.com/imageser...</td>\n",
       "      <td>Bill Gates</td>\n",
       "      <td>2.0</td>\n",
       "      <td>Technology</td>\n",
       "      <td>Microsoft</td>\n",
       "    </tr>\n",
       "  </tbody>\n",
       "</table>\n",
       "</div>"
      ],
      "text/plain": [
       "     id       worth          worthChange  realTimePosition           age  \\\n",
       "0  5390  112.0 BUSD     0.0 millions USD               1.0  54 years old   \n",
       "1  1675   90.0 BUSD  -0.001 millions USD               2.0  62 years old   \n",
       "\n",
       "  gender        country                                              image  \\\n",
       "0      M  United States  https://specials-images.forbesimg.com/imageser...   \n",
       "1   None           None  https://specials-images.forbesimg.com/imageser...   \n",
       "\n",
       "         name  position     industry company_name  \n",
       "0  Jeff Bezos       1.0  Technology        Amazon  \n",
       "1  Bill Gates       2.0  Technology     Microsoft  "
      ]
     },
     "execution_count": 106,
     "metadata": {},
     "output_type": "execute_result"
    }
   ],
   "source": [
    "df_merged.head(2)"
   ]
  },
  {
   "cell_type": "markdown",
   "metadata": {},
   "source": [
    "<h4>3.4 Cleaning the 'age' column removing ' years old'"
   ]
  },
  {
   "cell_type": "code",
   "execution_count": 107,
   "metadata": {},
   "outputs": [],
   "source": [
    "df_merged['age'] = df_merged.age.str.replace(' years old','')"
   ]
  },
  {
   "cell_type": "markdown",
   "metadata": {},
   "source": [
    "<h4>3.5 Cleaning the 'worth' column removing 'BUSD'"
   ]
  },
  {
   "cell_type": "code",
   "execution_count": 110,
   "metadata": {},
   "outputs": [],
   "source": [
    "df_merged['worth'] = df_merged.worth.str.replace('BUSD','')"
   ]
  },
  {
   "cell_type": "markdown",
   "metadata": {},
   "source": [
    "<h4>3.6 Changing name of column '<b>worth</b>'"
   ]
  },
  {
   "cell_type": "code",
   "execution_count": 111,
   "metadata": {},
   "outputs": [],
   "source": [
    "df_merged.rename(columns = {'worth':'worth in Billion USD'}, inplace = True)"
   ]
  },
  {
   "cell_type": "markdown",
   "metadata": {},
   "source": [
    "<h4>3.7 Convert data in column 'worth in Billion USD' to float"
   ]
  },
  {
   "cell_type": "code",
   "execution_count": 112,
   "metadata": {},
   "outputs": [],
   "source": [
    "df_merged['worth in Billion USD'] = df_merged['worth in Billion USD'].apply(pd.to_numeric)"
   ]
  },
  {
   "cell_type": "markdown",
   "metadata": {},
   "source": [
    "<h4>3.8 Convert data in column 'age' to float"
   ]
  },
  {
   "cell_type": "code",
   "execution_count": 113,
   "metadata": {},
   "outputs": [],
   "source": [
    "df_merged['age'] = df_merged['age'].apply(pd.to_numeric)"
   ]
  },
  {
   "cell_type": "markdown",
   "metadata": {},
   "source": [
    "<h4>3.9 Cleaning the 'worthChange' column removing ' millions UDS'"
   ]
  },
  {
   "cell_type": "code",
   "execution_count": 114,
   "metadata": {},
   "outputs": [],
   "source": [
    "df_merged['worthChange']=df_merged.worthChange.str.replace(' millions USD','')"
   ]
  },
  {
   "cell_type": "markdown",
   "metadata": {},
   "source": [
    "<h4>3.10 Changing name of column 'worthChange'"
   ]
  },
  {
   "cell_type": "code",
   "execution_count": 115,
   "metadata": {},
   "outputs": [],
   "source": [
    "df_merged.rename(columns = {'worthChange':'worth change in millions USD'}, inplace = True)"
   ]
  },
  {
   "cell_type": "code",
   "execution_count": 116,
   "metadata": {},
   "outputs": [
    {
     "data": {
      "text/html": [
       "<div>\n",
       "<style scoped>\n",
       "    .dataframe tbody tr th:only-of-type {\n",
       "        vertical-align: middle;\n",
       "    }\n",
       "\n",
       "    .dataframe tbody tr th {\n",
       "        vertical-align: top;\n",
       "    }\n",
       "\n",
       "    .dataframe thead th {\n",
       "        text-align: right;\n",
       "    }\n",
       "</style>\n",
       "<table border=\"1\" class=\"dataframe\">\n",
       "  <thead>\n",
       "    <tr style=\"text-align: right;\">\n",
       "      <th></th>\n",
       "      <th>id</th>\n",
       "      <th>worth in Billion USD</th>\n",
       "      <th>worth change in millions USD</th>\n",
       "      <th>realTimePosition</th>\n",
       "      <th>age</th>\n",
       "      <th>gender</th>\n",
       "      <th>country</th>\n",
       "      <th>image</th>\n",
       "      <th>name</th>\n",
       "      <th>position</th>\n",
       "      <th>industry</th>\n",
       "      <th>company_name</th>\n",
       "    </tr>\n",
       "  </thead>\n",
       "  <tbody>\n",
       "    <tr>\n",
       "      <th>0</th>\n",
       "      <td>5390</td>\n",
       "      <td>112.0</td>\n",
       "      <td>0.0</td>\n",
       "      <td>1.0</td>\n",
       "      <td>54.0</td>\n",
       "      <td>M</td>\n",
       "      <td>United States</td>\n",
       "      <td>https://specials-images.forbesimg.com/imageser...</td>\n",
       "      <td>Jeff Bezos</td>\n",
       "      <td>1.0</td>\n",
       "      <td>Technology</td>\n",
       "      <td>Amazon</td>\n",
       "    </tr>\n",
       "    <tr>\n",
       "      <th>1</th>\n",
       "      <td>1675</td>\n",
       "      <td>90.0</td>\n",
       "      <td>-0.001</td>\n",
       "      <td>2.0</td>\n",
       "      <td>62.0</td>\n",
       "      <td>None</td>\n",
       "      <td>None</td>\n",
       "      <td>https://specials-images.forbesimg.com/imageser...</td>\n",
       "      <td>Bill Gates</td>\n",
       "      <td>2.0</td>\n",
       "      <td>Technology</td>\n",
       "      <td>Microsoft</td>\n",
       "    </tr>\n",
       "  </tbody>\n",
       "</table>\n",
       "</div>"
      ],
      "text/plain": [
       "     id  worth in Billion USD worth change in millions USD  realTimePosition  \\\n",
       "0  5390                 112.0                          0.0               1.0   \n",
       "1  1675                  90.0                       -0.001               2.0   \n",
       "\n",
       "    age gender        country  \\\n",
       "0  54.0      M  United States   \n",
       "1  62.0   None           None   \n",
       "\n",
       "                                               image        name  position  \\\n",
       "0  https://specials-images.forbesimg.com/imageser...  Jeff Bezos       1.0   \n",
       "1  https://specials-images.forbesimg.com/imageser...  Bill Gates       2.0   \n",
       "\n",
       "      industry company_name  \n",
       "0  Technology        Amazon  \n",
       "1  Technology     Microsoft  "
      ]
     },
     "execution_count": 116,
     "metadata": {},
     "output_type": "execute_result"
    }
   ],
   "source": [
    "df_merged.head(2)"
   ]
  },
  {
   "cell_type": "markdown",
   "metadata": {},
   "source": [
    "<h4>3.11 Changing 'ages' with a year of birth to years old "
   ]
  },
  {
   "cell_type": "code",
   "execution_count": 117,
   "metadata": {},
   "outputs": [],
   "source": [
    "df_merged['age'] = df_merged['age'].apply(lambda x: 2018 - x if x > 150 else x)"
   ]
  },
  {
   "cell_type": "markdown",
   "metadata": {},
   "source": [
    "<h4>3.12 Changin 'gender' values to be only Male or Female"
   ]
  },
  {
   "cell_type": "code",
   "execution_count": 118,
   "metadata": {},
   "outputs": [],
   "source": [
    "m_filter = df_merged['gender'] == 'M'\n",
    "df_merged.loc[m_filter,'gender'] = df_merged.loc[m_filter,'gender'].replace('M','Male')"
   ]
  },
  {
   "cell_type": "code",
   "execution_count": 119,
   "metadata": {},
   "outputs": [],
   "source": [
    "f_filter = df_merged['gender'] == 'F'\n",
    "df_merged.loc[f_filter,'gender'] = df_merged.loc[f_filter,'gender'].replace('F','Female')"
   ]
  },
  {
   "cell_type": "code",
   "execution_count": 120,
   "metadata": {},
   "outputs": [
    {
     "data": {
      "text/plain": [
       "Male      1467\n",
       "None       549\n",
       "Female     179\n",
       "Name: gender, dtype: int64"
      ]
     },
     "execution_count": 120,
     "metadata": {},
     "output_type": "execute_result"
    }
   ],
   "source": [
    "df_merged['gender'].value_counts()"
   ]
  },
  {
   "cell_type": "code",
   "execution_count": 128,
   "metadata": {},
   "outputs": [
    {
     "ename": "TypeError",
     "evalue": "isnull() takes 1 positional argument but 2 were given",
     "output_type": "error",
     "traceback": [
      "\u001b[0;31m---------------------------------------------------------------------------\u001b[0m",
      "\u001b[0;31mTypeError\u001b[0m                                 Traceback (most recent call last)",
      "\u001b[0;32m<ipython-input-128-6e7013ffe04b>\u001b[0m in \u001b[0;36m<module>\u001b[0;34m\u001b[0m\n\u001b[0;32m----> 1\u001b[0;31m \u001b[0mdf_merged\u001b[0m\u001b[0;34m[\u001b[0m\u001b[0mdf_merged\u001b[0m\u001b[0;34m[\u001b[0m\u001b[0;34m'country'\u001b[0m\u001b[0;34m]\u001b[0m\u001b[0;34m.\u001b[0m\u001b[0misnull\u001b[0m\u001b[0;34m(\u001b[0m\u001b[0;32mFalse\u001b[0m\u001b[0;34m)\u001b[0m\u001b[0;34m]\u001b[0m\u001b[0;34m.\u001b[0m\u001b[0mcount\u001b[0m\u001b[0;34m(\u001b[0m\u001b[0;34m)\u001b[0m\u001b[0;34m\u001b[0m\u001b[0;34m\u001b[0m\u001b[0m\n\u001b[0m",
      "\u001b[0;31mTypeError\u001b[0m: isnull() takes 1 positional argument but 2 were given"
     ]
    }
   ],
   "source": [
    "df_merged[df_merged['country'].isnull()].count()"
   ]
  },
  {
   "cell_type": "markdown",
   "metadata": {},
   "source": [
    "<h4>3.13 Decide to drop all registers with 'country' null because there have no values in the rest of the registries"
   ]
  },
  {
   "cell_type": "code",
   "execution_count": 139,
   "metadata": {},
   "outputs": [
    {
     "data": {
      "text/plain": [
       "1             Bill Gates\n",
       "2         Warren Buffett\n",
       "3        Bernard Arnault\n",
       "4        Mark Zuckerberg\n",
       "6       Carlos Slim Helu\n",
       "              ...       \n",
       "2198         Sandy Weill\n",
       "2199       Wen Pengcheng\n",
       "2200         Wu Chung-Yi\n",
       "2206            Zhuo Jun\n",
       "2207         Olgun Zorlu\n",
       "Name: name, Length: 1406, dtype: object"
      ]
     },
     "execution_count": 139,
     "metadata": {},
     "output_type": "execute_result"
    }
   ],
   "source": [
    "df = df_merged[pd.notnull(df_merged['country'])]\n",
    "df.head()\n",
    "df[df['country'] == 'None'].name"
   ]
  },
  {
   "cell_type": "code",
   "execution_count": null,
   "metadata": {},
   "outputs": [],
   "source": []
  }
 ],
 "metadata": {
  "kernelspec": {
   "display_name": "Python [conda env:data_env]",
   "language": "python",
   "name": "conda-env-data_env-py"
  },
  "language_info": {
   "codemirror_mode": {
    "name": "ipython",
    "version": 3
   },
   "file_extension": ".py",
   "mimetype": "text/x-python",
   "name": "python",
   "nbconvert_exporter": "python",
   "pygments_lexer": "ipython3",
   "version": "3.7.5"
  }
 },
 "nbformat": 4,
 "nbformat_minor": 4
}
