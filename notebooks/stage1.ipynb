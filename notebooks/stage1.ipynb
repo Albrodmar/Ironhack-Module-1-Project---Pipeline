{
 "cells": [
  {
   "cell_type": "code",
   "execution_count": 3,
   "metadata": {},
   "outputs": [],
   "source": [
    "import pandas as pd\n",
    "import numpy as np"
   ]
  },
  {
   "cell_type": "code",
   "execution_count": 4,
   "metadata": {},
   "outputs": [],
   "source": [
    "from sqlalchemy import create_engine"
   ]
  },
  {
   "cell_type": "markdown",
   "metadata": {},
   "source": [
    "<h2> 1. Creating an engine to access the database"
   ]
  },
  {
   "cell_type": "code",
   "execution_count": 5,
   "metadata": {},
   "outputs": [],
   "source": [
    "engine = create_engine('sqlite:///../data/raw/Albrodmar.db')"
   ]
  },
  {
   "cell_type": "markdown",
   "metadata": {},
   "source": [
    "<h2>2. Opening all the tables on Pandas"
   ]
  },
  {
   "cell_type": "code",
   "execution_count": 9,
   "metadata": {},
   "outputs": [],
   "source": [
    "df_business = pd.read_sql_query(\"SELECT * FROM business_info\", engine)"
   ]
  },
  {
   "cell_type": "code",
   "execution_count": 10,
   "metadata": {},
   "outputs": [],
   "source": [
    "df_personal = pd.read_sql_query(\"SELECT * FROM personal_info\", engine)"
   ]
  },
  {
   "cell_type": "code",
   "execution_count": 11,
   "metadata": {},
   "outputs": [],
   "source": [
    "df_rank = pd.read_sql_query('SELECT * FROM rank_info', engine)"
   ]
  },
  {
   "cell_type": "markdown",
   "metadata": {},
   "source": [
    "\n",
    "<h4> All the df have a common column 'id' but df_rank has more lines thah the others df. Will 'outer' join the three base on 'id'\n"
   ]
  },
  {
   "cell_type": "code",
   "execution_count": 68,
   "metadata": {},
   "outputs": [
    {
     "data": {
      "text/html": [
       "<div>\n",
       "<style scoped>\n",
       "    .dataframe tbody tr th:only-of-type {\n",
       "        vertical-align: middle;\n",
       "    }\n",
       "\n",
       "    .dataframe tbody tr th {\n",
       "        vertical-align: top;\n",
       "    }\n",
       "\n",
       "    .dataframe thead th {\n",
       "        text-align: right;\n",
       "    }\n",
       "</style>\n",
       "<table border=\"1\" class=\"dataframe\">\n",
       "  <thead>\n",
       "    <tr style=\"text-align: right;\">\n",
       "      <th></th>\n",
       "      <th>id</th>\n",
       "      <th>Unnamed: 0_x</th>\n",
       "      <th>Source</th>\n",
       "      <th>worth</th>\n",
       "      <th>worthChange</th>\n",
       "      <th>realTimeWorth</th>\n",
       "      <th>realTimePosition</th>\n",
       "      <th>lastName</th>\n",
       "      <th>age</th>\n",
       "      <th>Unnamed: 0_y</th>\n",
       "      <th>gender</th>\n",
       "      <th>country</th>\n",
       "      <th>image</th>\n",
       "      <th>name</th>\n",
       "      <th>position</th>\n",
       "      <th>Unnamed: 0</th>\n",
       "    </tr>\n",
       "  </thead>\n",
       "  <tbody>\n",
       "    <tr>\n",
       "      <th>0</th>\n",
       "      <td>5390</td>\n",
       "      <td>52.0</td>\n",
       "      <td>Technology  ==&gt; Amazon</td>\n",
       "      <td>112.0 BUSD</td>\n",
       "      <td>0.0 millions USD</td>\n",
       "      <td>None</td>\n",
       "      <td>1.0</td>\n",
       "      <td>bEZOS</td>\n",
       "      <td>54 years old</td>\n",
       "      <td>52.0</td>\n",
       "      <td>M</td>\n",
       "      <td>United States</td>\n",
       "      <td>https://specials-images.forbesimg.com/imageser...</td>\n",
       "      <td>jEFF BEzos</td>\n",
       "      <td>1.0</td>\n",
       "      <td>52</td>\n",
       "    </tr>\n",
       "    <tr>\n",
       "      <th>1</th>\n",
       "      <td>1675</td>\n",
       "      <td>53.0</td>\n",
       "      <td>Technology  ==&gt; Microsoft</td>\n",
       "      <td>90.0 BUSD</td>\n",
       "      <td>-0.001 millions USD</td>\n",
       "      <td>None</td>\n",
       "      <td>2.0</td>\n",
       "      <td>GATEs</td>\n",
       "      <td>62 years old</td>\n",
       "      <td>53.0</td>\n",
       "      <td>None</td>\n",
       "      <td>None</td>\n",
       "      <td>https://specials-images.forbesimg.com/imageser...</td>\n",
       "      <td>BILL GAtes</td>\n",
       "      <td>2.0</td>\n",
       "      <td>53</td>\n",
       "    </tr>\n",
       "  </tbody>\n",
       "</table>\n",
       "</div>"
      ],
      "text/plain": [
       "     id  Unnamed: 0_x                     Source       worth  \\\n",
       "0  5390          52.0     Technology  ==> Amazon  112.0 BUSD   \n",
       "1  1675          53.0  Technology  ==> Microsoft   90.0 BUSD   \n",
       "\n",
       "           worthChange realTimeWorth  realTimePosition lastName           age  \\\n",
       "0     0.0 millions USD          None               1.0    bEZOS  54 years old   \n",
       "1  -0.001 millions USD          None               2.0    GATEs  62 years old   \n",
       "\n",
       "   Unnamed: 0_y gender        country  \\\n",
       "0          52.0      M  United States   \n",
       "1          53.0   None           None   \n",
       "\n",
       "                                               image        name  position  \\\n",
       "0  https://specials-images.forbesimg.com/imageser...  jEFF BEzos       1.0   \n",
       "1  https://specials-images.forbesimg.com/imageser...  BILL GAtes       2.0   \n",
       "\n",
       "   Unnamed: 0  \n",
       "0          52  \n",
       "1          53  "
      ]
     },
     "execution_count": 68,
     "metadata": {},
     "output_type": "execute_result"
    }
   ],
   "source": [
    "df_temp = pd.merge(df_business, df_personal, on = 'id', how = 'outer')\n",
    "df_merged = pd.merge(df_temp, df_rank, on = 'id', how = 'outer')\n",
    "df_merged.head(2)"
   ]
  },
  {
   "cell_type": "markdown",
   "metadata": {},
   "source": [
    "<h2> 3. Start Data Wrangling"
   ]
  },
  {
   "cell_type": "code",
   "execution_count": 69,
   "metadata": {},
   "outputs": [
    {
     "data": {
      "text/plain": [
       "id                     0\n",
       "Unnamed: 0_x          52\n",
       "Source                52\n",
       "worth                 52\n",
       "worthChange           52\n",
       "realTimeWorth       2260\n",
       "realTimePosition      52\n",
       "lastName              52\n",
       "age                  117\n",
       "Unnamed: 0_y          52\n",
       "gender                65\n",
       "country               52\n",
       "image                 52\n",
       "name                   0\n",
       "position              52\n",
       "Unnamed: 0             0\n",
       "dtype: int64"
      ]
     },
     "execution_count": 69,
     "metadata": {},
     "output_type": "execute_result"
    }
   ],
   "source": [
    "df_merged.isnull().sum()"
   ]
  },
  {
   "cell_type": "markdown",
   "metadata": {},
   "source": [
    "<h4>3.1 Drop column <b>realTimeWorth</b> because is full of nulls and column <b>lastName</b> because is useless having column <b>name</b>"
   ]
  },
  {
   "cell_type": "code",
   "execution_count": 70,
   "metadata": {},
   "outputs": [],
   "source": [
    "df_merged = df_merged.drop(['realTimeWorth'], axis = 1)\n",
    "df_merged = df_merged.drop(['lastName'], axis = 1)"
   ]
  },
  {
   "cell_type": "markdown",
   "metadata": {},
   "source": [
    "<h4>3.2 Separete column source in column \"Industry\" and \"Company\""
   ]
  },
  {
   "cell_type": "code",
   "execution_count": 71,
   "metadata": {},
   "outputs": [
    {
     "data": {
      "text/html": [
       "<div>\n",
       "<style scoped>\n",
       "    .dataframe tbody tr th:only-of-type {\n",
       "        vertical-align: middle;\n",
       "    }\n",
       "\n",
       "    .dataframe tbody tr th {\n",
       "        vertical-align: top;\n",
       "    }\n",
       "\n",
       "    .dataframe thead th {\n",
       "        text-align: right;\n",
       "    }\n",
       "</style>\n",
       "<table border=\"1\" class=\"dataframe\">\n",
       "  <thead>\n",
       "    <tr style=\"text-align: right;\">\n",
       "      <th></th>\n",
       "      <th>id</th>\n",
       "      <th>Unnamed: 0_x</th>\n",
       "      <th>worth</th>\n",
       "      <th>worthChange</th>\n",
       "      <th>realTimePosition</th>\n",
       "      <th>age</th>\n",
       "      <th>Unnamed: 0_y</th>\n",
       "      <th>gender</th>\n",
       "      <th>country</th>\n",
       "      <th>image</th>\n",
       "      <th>name</th>\n",
       "      <th>position</th>\n",
       "      <th>Unnamed: 0</th>\n",
       "      <th>industry</th>\n",
       "      <th>company_name</th>\n",
       "    </tr>\n",
       "  </thead>\n",
       "  <tbody>\n",
       "    <tr>\n",
       "      <th>0</th>\n",
       "      <td>5390</td>\n",
       "      <td>52.0</td>\n",
       "      <td>112.0 BUSD</td>\n",
       "      <td>0.0 millions USD</td>\n",
       "      <td>1.0</td>\n",
       "      <td>54 years old</td>\n",
       "      <td>52.0</td>\n",
       "      <td>M</td>\n",
       "      <td>United States</td>\n",
       "      <td>https://specials-images.forbesimg.com/imageser...</td>\n",
       "      <td>jEFF BEzos</td>\n",
       "      <td>1.0</td>\n",
       "      <td>52</td>\n",
       "      <td>Technology</td>\n",
       "      <td>Amazon</td>\n",
       "    </tr>\n",
       "    <tr>\n",
       "      <th>1</th>\n",
       "      <td>1675</td>\n",
       "      <td>53.0</td>\n",
       "      <td>90.0 BUSD</td>\n",
       "      <td>-0.001 millions USD</td>\n",
       "      <td>2.0</td>\n",
       "      <td>62 years old</td>\n",
       "      <td>53.0</td>\n",
       "      <td>None</td>\n",
       "      <td>None</td>\n",
       "      <td>https://specials-images.forbesimg.com/imageser...</td>\n",
       "      <td>BILL GAtes</td>\n",
       "      <td>2.0</td>\n",
       "      <td>53</td>\n",
       "      <td>Technology</td>\n",
       "      <td>Microsoft</td>\n",
       "    </tr>\n",
       "  </tbody>\n",
       "</table>\n",
       "</div>"
      ],
      "text/plain": [
       "     id  Unnamed: 0_x       worth          worthChange  realTimePosition  \\\n",
       "0  5390          52.0  112.0 BUSD     0.0 millions USD               1.0   \n",
       "1  1675          53.0   90.0 BUSD  -0.001 millions USD               2.0   \n",
       "\n",
       "            age  Unnamed: 0_y gender        country  \\\n",
       "0  54 years old          52.0      M  United States   \n",
       "1  62 years old          53.0   None           None   \n",
       "\n",
       "                                               image        name  position  \\\n",
       "0  https://specials-images.forbesimg.com/imageser...  jEFF BEzos       1.0   \n",
       "1  https://specials-images.forbesimg.com/imageser...  BILL GAtes       2.0   \n",
       "\n",
       "   Unnamed: 0     industry company_name  \n",
       "0          52  Technology        Amazon  \n",
       "1          53  Technology     Microsoft  "
      ]
     },
     "execution_count": 71,
     "metadata": {},
     "output_type": "execute_result"
    }
   ],
   "source": [
    "df_merged[['industry','company_name']] = df_merged.Source.str.split(' ==>',expand = True)\n",
    "\n",
    "#drop old column Source\n",
    "df_merged = df_merged.drop(['Source'], axis = 1)\n",
    "df_merged.head(2)\n"
   ]
  },
  {
   "cell_type": "markdown",
   "metadata": {},
   "source": [
    "<h4>3.3 Capitalizing first letters only on column 'name'"
   ]
  },
  {
   "cell_type": "code",
   "execution_count": 72,
   "metadata": {},
   "outputs": [],
   "source": [
    "df_merged['name'] = df_merged['name'].str.title()"
   ]
  },
  {
   "cell_type": "code",
   "execution_count": 73,
   "metadata": {},
   "outputs": [
    {
     "data": {
      "text/html": [
       "<div>\n",
       "<style scoped>\n",
       "    .dataframe tbody tr th:only-of-type {\n",
       "        vertical-align: middle;\n",
       "    }\n",
       "\n",
       "    .dataframe tbody tr th {\n",
       "        vertical-align: top;\n",
       "    }\n",
       "\n",
       "    .dataframe thead th {\n",
       "        text-align: right;\n",
       "    }\n",
       "</style>\n",
       "<table border=\"1\" class=\"dataframe\">\n",
       "  <thead>\n",
       "    <tr style=\"text-align: right;\">\n",
       "      <th></th>\n",
       "      <th>id</th>\n",
       "      <th>Unnamed: 0_x</th>\n",
       "      <th>worth</th>\n",
       "      <th>worthChange</th>\n",
       "      <th>realTimePosition</th>\n",
       "      <th>age</th>\n",
       "      <th>Unnamed: 0_y</th>\n",
       "      <th>gender</th>\n",
       "      <th>country</th>\n",
       "      <th>image</th>\n",
       "      <th>name</th>\n",
       "      <th>position</th>\n",
       "      <th>Unnamed: 0</th>\n",
       "      <th>industry</th>\n",
       "      <th>company_name</th>\n",
       "    </tr>\n",
       "  </thead>\n",
       "  <tbody>\n",
       "    <tr>\n",
       "      <th>0</th>\n",
       "      <td>5390</td>\n",
       "      <td>52.0</td>\n",
       "      <td>112.0 BUSD</td>\n",
       "      <td>0.0 millions USD</td>\n",
       "      <td>1.0</td>\n",
       "      <td>54 years old</td>\n",
       "      <td>52.0</td>\n",
       "      <td>M</td>\n",
       "      <td>United States</td>\n",
       "      <td>https://specials-images.forbesimg.com/imageser...</td>\n",
       "      <td>Jeff Bezos</td>\n",
       "      <td>1.0</td>\n",
       "      <td>52</td>\n",
       "      <td>Technology</td>\n",
       "      <td>Amazon</td>\n",
       "    </tr>\n",
       "    <tr>\n",
       "      <th>1</th>\n",
       "      <td>1675</td>\n",
       "      <td>53.0</td>\n",
       "      <td>90.0 BUSD</td>\n",
       "      <td>-0.001 millions USD</td>\n",
       "      <td>2.0</td>\n",
       "      <td>62 years old</td>\n",
       "      <td>53.0</td>\n",
       "      <td>None</td>\n",
       "      <td>None</td>\n",
       "      <td>https://specials-images.forbesimg.com/imageser...</td>\n",
       "      <td>Bill Gates</td>\n",
       "      <td>2.0</td>\n",
       "      <td>53</td>\n",
       "      <td>Technology</td>\n",
       "      <td>Microsoft</td>\n",
       "    </tr>\n",
       "  </tbody>\n",
       "</table>\n",
       "</div>"
      ],
      "text/plain": [
       "     id  Unnamed: 0_x       worth          worthChange  realTimePosition  \\\n",
       "0  5390          52.0  112.0 BUSD     0.0 millions USD               1.0   \n",
       "1  1675          53.0   90.0 BUSD  -0.001 millions USD               2.0   \n",
       "\n",
       "            age  Unnamed: 0_y gender        country  \\\n",
       "0  54 years old          52.0      M  United States   \n",
       "1  62 years old          53.0   None           None   \n",
       "\n",
       "                                               image        name  position  \\\n",
       "0  https://specials-images.forbesimg.com/imageser...  Jeff Bezos       1.0   \n",
       "1  https://specials-images.forbesimg.com/imageser...  Bill Gates       2.0   \n",
       "\n",
       "   Unnamed: 0     industry company_name  \n",
       "0          52  Technology        Amazon  \n",
       "1          53  Technology     Microsoft  "
      ]
     },
     "execution_count": 73,
     "metadata": {},
     "output_type": "execute_result"
    }
   ],
   "source": [
    "df_merged.head(2)"
   ]
  },
  {
   "cell_type": "markdown",
   "metadata": {},
   "source": [
    "<h4>3.4 Cleaning the 'age' column removing ' years old'"
   ]
  },
  {
   "cell_type": "code",
   "execution_count": 74,
   "metadata": {},
   "outputs": [],
   "source": [
    "df_merged['age'] = df_merged.age.str.replace(' years old','')"
   ]
  },
  {
   "cell_type": "markdown",
   "metadata": {},
   "source": [
    "<h4>3.5 Cleaning the 'worth' column removing 'BUSD'"
   ]
  },
  {
   "cell_type": "code",
   "execution_count": 75,
   "metadata": {},
   "outputs": [],
   "source": [
    "df_merged['worth'] = df_merged.worth.str.replace('BUSD','')"
   ]
  },
  {
   "cell_type": "markdown",
   "metadata": {},
   "source": [
    "<h4>3.6 Changing name of column <b>worth</b>"
   ]
  },
  {
   "cell_type": "code",
   "execution_count": 76,
   "metadata": {},
   "outputs": [],
   "source": [
    "df_merged.rename(columns = {'worth':'worth in Billion USD'}, inplace = True)"
   ]
  },
  {
   "cell_type": "markdown",
   "metadata": {},
   "source": [
    "<h4>3.7 Convert data in column 'worth in Billion USD' to float"
   ]
  },
  {
   "cell_type": "code",
   "execution_count": 77,
   "metadata": {},
   "outputs": [],
   "source": [
    "df_merged['worth in Billion USD'] = df_merged['worth in Billion USD'].apply(pd.to_numeric)"
   ]
  },
  {
   "cell_type": "markdown",
   "metadata": {},
   "source": [
    "<h4>3.8 Convert data in column 'age' to float"
   ]
  },
  {
   "cell_type": "code",
   "execution_count": 78,
   "metadata": {},
   "outputs": [],
   "source": [
    "df_merged['age'] = df_merged['age'].apply(pd.to_numeric)"
   ]
  },
  {
   "cell_type": "markdown",
   "metadata": {},
   "source": [
    "<h4>3.9 Cleaning the 'worthChange' column removing ' millions UDS'"
   ]
  },
  {
   "cell_type": "code",
   "execution_count": 79,
   "metadata": {},
   "outputs": [],
   "source": [
    "df_merged['worthChange']=df_merged.worthChange.str.replace(' millions USD','')"
   ]
  },
  {
   "cell_type": "markdown",
   "metadata": {},
   "source": [
    "<h4>3.10 Changing name of column 'worthChange'"
   ]
  },
  {
   "cell_type": "code",
   "execution_count": 80,
   "metadata": {},
   "outputs": [],
   "source": [
    "df_merged.rename(columns = {'worthChange':'worth change in millions USD'}, inplace = True)"
   ]
  },
  {
   "cell_type": "code",
   "execution_count": 81,
   "metadata": {},
   "outputs": [
    {
     "data": {
      "text/html": [
       "<div>\n",
       "<style scoped>\n",
       "    .dataframe tbody tr th:only-of-type {\n",
       "        vertical-align: middle;\n",
       "    }\n",
       "\n",
       "    .dataframe tbody tr th {\n",
       "        vertical-align: top;\n",
       "    }\n",
       "\n",
       "    .dataframe thead th {\n",
       "        text-align: right;\n",
       "    }\n",
       "</style>\n",
       "<table border=\"1\" class=\"dataframe\">\n",
       "  <thead>\n",
       "    <tr style=\"text-align: right;\">\n",
       "      <th></th>\n",
       "      <th>id</th>\n",
       "      <th>Unnamed: 0_x</th>\n",
       "      <th>worth in Billion USD</th>\n",
       "      <th>worth change in millions USD</th>\n",
       "      <th>realTimePosition</th>\n",
       "      <th>age</th>\n",
       "      <th>Unnamed: 0_y</th>\n",
       "      <th>gender</th>\n",
       "      <th>country</th>\n",
       "      <th>image</th>\n",
       "      <th>name</th>\n",
       "      <th>position</th>\n",
       "      <th>Unnamed: 0</th>\n",
       "      <th>industry</th>\n",
       "      <th>company_name</th>\n",
       "    </tr>\n",
       "  </thead>\n",
       "  <tbody>\n",
       "    <tr>\n",
       "      <th>0</th>\n",
       "      <td>5390</td>\n",
       "      <td>52.0</td>\n",
       "      <td>112.0</td>\n",
       "      <td>0.0</td>\n",
       "      <td>1.0</td>\n",
       "      <td>54.0</td>\n",
       "      <td>52.0</td>\n",
       "      <td>M</td>\n",
       "      <td>United States</td>\n",
       "      <td>https://specials-images.forbesimg.com/imageser...</td>\n",
       "      <td>Jeff Bezos</td>\n",
       "      <td>1.0</td>\n",
       "      <td>52</td>\n",
       "      <td>Technology</td>\n",
       "      <td>Amazon</td>\n",
       "    </tr>\n",
       "    <tr>\n",
       "      <th>1</th>\n",
       "      <td>1675</td>\n",
       "      <td>53.0</td>\n",
       "      <td>90.0</td>\n",
       "      <td>-0.001</td>\n",
       "      <td>2.0</td>\n",
       "      <td>62.0</td>\n",
       "      <td>53.0</td>\n",
       "      <td>None</td>\n",
       "      <td>None</td>\n",
       "      <td>https://specials-images.forbesimg.com/imageser...</td>\n",
       "      <td>Bill Gates</td>\n",
       "      <td>2.0</td>\n",
       "      <td>53</td>\n",
       "      <td>Technology</td>\n",
       "      <td>Microsoft</td>\n",
       "    </tr>\n",
       "  </tbody>\n",
       "</table>\n",
       "</div>"
      ],
      "text/plain": [
       "     id  Unnamed: 0_x  worth in Billion USD worth change in millions USD  \\\n",
       "0  5390          52.0                 112.0                          0.0   \n",
       "1  1675          53.0                  90.0                       -0.001   \n",
       "\n",
       "   realTimePosition   age  Unnamed: 0_y gender        country  \\\n",
       "0               1.0  54.0          52.0      M  United States   \n",
       "1               2.0  62.0          53.0   None           None   \n",
       "\n",
       "                                               image        name  position  \\\n",
       "0  https://specials-images.forbesimg.com/imageser...  Jeff Bezos       1.0   \n",
       "1  https://specials-images.forbesimg.com/imageser...  Bill Gates       2.0   \n",
       "\n",
       "   Unnamed: 0     industry company_name  \n",
       "0          52  Technology        Amazon  \n",
       "1          53  Technology     Microsoft  "
      ]
     },
     "execution_count": 81,
     "metadata": {},
     "output_type": "execute_result"
    }
   ],
   "source": [
    "df_merged.head(2)"
   ]
  },
  {
   "cell_type": "markdown",
   "metadata": {},
   "source": [
    "<h4>3.11 Changing 'ages' with a year of birth to years old "
   ]
  },
  {
   "cell_type": "code",
   "execution_count": 93,
   "metadata": {},
   "outputs": [],
   "source": [
    "df_merged['age'] = df_merged['age'].apply(lambda x: 2018 - x if x > 150 else x)"
   ]
  },
  {
   "cell_type": "markdown",
   "metadata": {},
   "source": [
    "<h4>3.12 Changin 'gender' values to be only Male or Female"
   ]
  },
  {
   "cell_type": "code",
   "execution_count": 140,
   "metadata": {},
   "outputs": [],
   "source": [
    "m_filter = df_merged['gender'] == 'M'\n",
    "df_merged.loc[m_filter,'gender'] = df_merged.loc[m_filter,'gender'].replace('M','Male')"
   ]
  },
  {
   "cell_type": "code",
   "execution_count": 142,
   "metadata": {},
   "outputs": [],
   "source": [
    "f_filter = df_merged['gender'] == 'F'\n",
    "df_merged.loc[f_filter,'gender'] = df_merged.loc[f_filter,'gender'].replace('F','Female')"
   ]
  },
  {
   "cell_type": "code",
   "execution_count": 174,
   "metadata": {},
   "outputs": [
    {
     "data": {
      "text/plain": [
       "Male      1467\n",
       "None       549\n",
       "Female     179\n",
       "Name: gender, dtype: int64"
      ]
     },
     "execution_count": 174,
     "metadata": {},
     "output_type": "execute_result"
    }
   ],
   "source": [
    "df_merged['gender'].value_counts()"
   ]
  },
  {
   "cell_type": "code",
   "execution_count": 185,
   "metadata": {},
   "outputs": [],
   "source": [
    "if_filter = df_merged['name'].str.contains('&')"
   ]
  },
  {
   "cell_type": "code",
   "execution_count": 186,
   "metadata": {},
   "outputs": [
    {
     "data": {
      "text/html": [
       "<div>\n",
       "<style scoped>\n",
       "    .dataframe tbody tr th:only-of-type {\n",
       "        vertical-align: middle;\n",
       "    }\n",
       "\n",
       "    .dataframe tbody tr th {\n",
       "        vertical-align: top;\n",
       "    }\n",
       "\n",
       "    .dataframe thead th {\n",
       "        text-align: right;\n",
       "    }\n",
       "</style>\n",
       "<table border=\"1\" class=\"dataframe\">\n",
       "  <thead>\n",
       "    <tr style=\"text-align: right;\">\n",
       "      <th></th>\n",
       "      <th>id</th>\n",
       "      <th>Unnamed: 0_x</th>\n",
       "      <th>worth in Billion USD</th>\n",
       "      <th>worth change in millions USD</th>\n",
       "      <th>realTimePosition</th>\n",
       "      <th>age</th>\n",
       "      <th>Unnamed: 0_y</th>\n",
       "      <th>gender</th>\n",
       "      <th>country</th>\n",
       "      <th>image</th>\n",
       "      <th>name</th>\n",
       "      <th>position</th>\n",
       "      <th>Unnamed: 0</th>\n",
       "      <th>industry</th>\n",
       "      <th>company_name</th>\n",
       "    </tr>\n",
       "  </thead>\n",
       "  <tbody>\n",
       "    <tr>\n",
       "      <th>26</th>\n",
       "      <td>1013</td>\n",
       "      <td>78.0</td>\n",
       "      <td>29.8</td>\n",
       "      <td>0.0</td>\n",
       "      <td>29.0</td>\n",
       "      <td>66.0</td>\n",
       "      <td>78.0</td>\n",
       "      <td>None</td>\n",
       "      <td>None</td>\n",
       "      <td>https://specials-images.forbesimg.com/imageser...</td>\n",
       "      <td>Beate Heister &amp; Karl Albrecht Jr.</td>\n",
       "      <td>27.0</td>\n",
       "      <td>78</td>\n",
       "      <td>Fashion &amp; Retail</td>\n",
       "      <td>supermarkets</td>\n",
       "    </tr>\n",
       "    <tr>\n",
       "      <th>76</th>\n",
       "      <td>2021</td>\n",
       "      <td>128.0</td>\n",
       "      <td>16.5</td>\n",
       "      <td>0.0</td>\n",
       "      <td>75.0</td>\n",
       "      <td>NaN</td>\n",
       "      <td>128.0</td>\n",
       "      <td>None</td>\n",
       "      <td>Hong Kong</td>\n",
       "      <td>https://specials-images.forbesimg.com/imageser...</td>\n",
       "      <td>Thomas &amp; Raymond Kwok</td>\n",
       "      <td>77.0</td>\n",
       "      <td>128</td>\n",
       "      <td>Real Estate</td>\n",
       "      <td>real estate</td>\n",
       "    </tr>\n",
       "    <tr>\n",
       "      <th>89</th>\n",
       "      <td>6776</td>\n",
       "      <td>141.0</td>\n",
       "      <td>15.5</td>\n",
       "      <td>0.0</td>\n",
       "      <td>88.0</td>\n",
       "      <td>NaN</td>\n",
       "      <td>141.0</td>\n",
       "      <td>None</td>\n",
       "      <td>United Kingdom</td>\n",
       "      <td>https://specials-images.forbesimg.com/imageser...</td>\n",
       "      <td>David &amp; Simon Reuben</td>\n",
       "      <td>90.0</td>\n",
       "      <td>141</td>\n",
       "      <td>Real Estate</td>\n",
       "      <td>investments, real estate</td>\n",
       "    </tr>\n",
       "    <tr>\n",
       "      <th>129</th>\n",
       "      <td>3611</td>\n",
       "      <td>181.0</td>\n",
       "      <td>11.7</td>\n",
       "      <td>0.0</td>\n",
       "      <td>110.0</td>\n",
       "      <td>NaN</td>\n",
       "      <td>181.0</td>\n",
       "      <td>Male</td>\n",
       "      <td>None</td>\n",
       "      <td>https://specials-images.forbesimg.com/imageser...</td>\n",
       "      <td>Udo &amp; Harald Tschira</td>\n",
       "      <td>130.0</td>\n",
       "      <td>181</td>\n",
       "      <td>Technology</td>\n",
       "      <td>software</td>\n",
       "    </tr>\n",
       "    <tr>\n",
       "      <th>141</th>\n",
       "      <td>9220</td>\n",
       "      <td>193.0</td>\n",
       "      <td>10.8</td>\n",
       "      <td>0.0</td>\n",
       "      <td>143.0</td>\n",
       "      <td>NaN</td>\n",
       "      <td>193.0</td>\n",
       "      <td>Male</td>\n",
       "      <td>None</td>\n",
       "      <td>https://specials-images.forbesimg.com/imageser...</td>\n",
       "      <td>Robert &amp; Philip Ng</td>\n",
       "      <td>142.0</td>\n",
       "      <td>193</td>\n",
       "      <td>Real Estate</td>\n",
       "      <td>real estate</td>\n",
       "    </tr>\n",
       "  </tbody>\n",
       "</table>\n",
       "</div>"
      ],
      "text/plain": [
       "       id  Unnamed: 0_x  worth in Billion USD worth change in millions USD  \\\n",
       "26   1013          78.0                  29.8                          0.0   \n",
       "76   2021         128.0                  16.5                          0.0   \n",
       "89   6776         141.0                  15.5                          0.0   \n",
       "129  3611         181.0                  11.7                          0.0   \n",
       "141  9220         193.0                  10.8                          0.0   \n",
       "\n",
       "     realTimePosition   age  Unnamed: 0_y gender         country  \\\n",
       "26               29.0  66.0          78.0   None            None   \n",
       "76               75.0   NaN         128.0   None       Hong Kong   \n",
       "89               88.0   NaN         141.0   None  United Kingdom   \n",
       "129             110.0   NaN         181.0   Male            None   \n",
       "141             143.0   NaN         193.0   Male            None   \n",
       "\n",
       "                                                 image  \\\n",
       "26   https://specials-images.forbesimg.com/imageser...   \n",
       "76   https://specials-images.forbesimg.com/imageser...   \n",
       "89   https://specials-images.forbesimg.com/imageser...   \n",
       "129  https://specials-images.forbesimg.com/imageser...   \n",
       "141  https://specials-images.forbesimg.com/imageser...   \n",
       "\n",
       "                                  name  position  Unnamed: 0  \\\n",
       "26   Beate Heister & Karl Albrecht Jr.      27.0          78   \n",
       "76               Thomas & Raymond Kwok      77.0         128   \n",
       "89                David & Simon Reuben      90.0         141   \n",
       "129               Udo & Harald Tschira     130.0         181   \n",
       "141                 Robert & Philip Ng     142.0         193   \n",
       "\n",
       "              industry               company_name  \n",
       "26   Fashion & Retail                supermarkets  \n",
       "76        Real Estate                 real estate  \n",
       "89        Real Estate    investments, real estate  \n",
       "129        Technology                    software  \n",
       "141       Real Estate                 real estate  "
      ]
     },
     "execution_count": 186,
     "metadata": {},
     "output_type": "execute_result"
    }
   ],
   "source": [
    "df_merged[if_filter]"
   ]
  },
  {
   "cell_type": "code",
   "execution_count": null,
   "metadata": {},
   "outputs": [],
   "source": []
  }
 ],
 "metadata": {
  "kernelspec": {
   "display_name": "Python [conda env:data_env]",
   "language": "python",
   "name": "conda-env-data_env-py"
  },
  "language_info": {
   "codemirror_mode": {
    "name": "ipython",
    "version": 3
   },
   "file_extension": ".py",
   "mimetype": "text/x-python",
   "name": "python",
   "nbconvert_exporter": "python",
   "pygments_lexer": "ipython3",
   "version": "3.7.5"
  }
 },
 "nbformat": 4,
 "nbformat_minor": 4
}
